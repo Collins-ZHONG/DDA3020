{
 "cells": [
  {
   "cell_type": "markdown",
   "metadata": {},
   "source": [
    "Question 2"
   ]
  },
  {
   "cell_type": "code",
   "execution_count": 33,
   "metadata": {},
   "outputs": [],
   "source": [
    "import numpy as np\n",
    "import pandas as pd\n",
    "import seaborn as sns\n",
    "from matplotlib import pyplot as plt\n",
    "\n",
    "from sklearn.datasets import load_diabetes\n",
    "from sklearn import linear_model\n",
    "from sklearn.model_selection import train_test_split"
   ]
  },
  {
   "cell_type": "markdown",
   "metadata": {},
   "source": [
    "Loading dataset"
   ]
  },
  {
   "cell_type": "code",
   "execution_count": 48,
   "metadata": {},
   "outputs": [
    {
     "name": "stdout",
     "output_type": "stream",
     "text": [
      "(442, 11)\n"
     ]
    }
   ],
   "source": [
    "diabetes = load_diabetes()\n",
    "X, y = diabetes.data, diabetes.target\n",
    "X_b = np.c_[np.ones(442,), X]\n",
    "# print(X_b.shape)  # (442+1) lines * 10 rows\n",
    "# print(y.shape)  # 442,\n",
    "# print(X_b.T)\n",
    "\n",
    "# defining other variables\n",
    "w = np.random.rand(11,1)    ## inital w\n",
    "n_iter = 100                ## iteration times"
   ]
  },
  {
   "cell_type": "markdown",
   "metadata": {},
   "source": [
    "Step 1"
   ]
  },
  {
   "cell_type": "code",
   "execution_count": 45,
   "metadata": {},
   "outputs": [],
   "source": [
    "def score_Rsquared(y_real, y_pre):\n",
    "    result = 0\n",
    "    for _ in range(y_real.shape[0]):\n",
    "        result += np.square(y_real[_] -y_pre[_])\n",
    "    return result\n",
    "''' remains problem '''\n",
    "\n",
    "def train_a_model(X_b, y, w):\n",
    "    print(X_b.shape, w.shape, y.shape)\n",
    "    gradient = X_b.T @ (X_b@w - y)\n",
    "    # print(gradient.shape)\n",
    "\n",
    "    # compute stepsize --> alpha\n",
    "    alpha = score_Rsquared(X_b@w, y)\n",
    "\n",
    "    w = w - alpha* gradient\n",
    "\n",
    "    #     # report the training error in terms of RMSE\n",
    "    # print(\"The training error is {}\".format(score_Rsquared(y, X@w)))\n",
    "    \n",
    "    return w"
   ]
  },
  {
   "cell_type": "markdown",
   "metadata": {},
   "source": [
    "Step 2"
   ]
  },
  {
   "cell_type": "code",
   "execution_count": 46,
   "metadata": {},
   "outputs": [
    {
     "name": "stdout",
     "output_type": "stream",
     "text": [
      "(353, 11) (11, 1) (353,)\n"
     ]
    },
    {
     "ename": "ValueError",
     "evalue": "operands could not be broadcast together with shapes (353,353) (11,353) ",
     "output_type": "error",
     "traceback": [
      "\u001b[1;31m---------------------------------------------------------------------------\u001b[0m",
      "\u001b[1;31mValueError\u001b[0m                                Traceback (most recent call last)",
      "Cell \u001b[1;32mIn[46], line 5\u001b[0m\n\u001b[0;32m      3\u001b[0m \u001b[38;5;28;01mfor\u001b[39;00m i \u001b[38;5;129;01min\u001b[39;00m \u001b[38;5;28mrange\u001b[39m(n_iter):\n\u001b[0;32m      4\u001b[0m     X_train, X_test, y_train, y_test \u001b[38;5;241m=\u001b[39m train_test_split(X_b, y, train_size\u001b[38;5;241m=\u001b[39m\u001b[38;5;241m0.8\u001b[39m, test_size\u001b[38;5;241m=\u001b[39m\u001b[38;5;241m0.2\u001b[39m)\n\u001b[1;32m----> 5\u001b[0m     w \u001b[38;5;241m=\u001b[39m train_a_model(X_train, y_train, w)\n\u001b[0;32m      6\u001b[0m \u001b[38;5;28mprint\u001b[39m(w)\n",
      "Cell \u001b[1;32mIn[45], line 15\u001b[0m, in \u001b[0;36mtrain_a_model\u001b[1;34m(X_b, y, w)\u001b[0m\n\u001b[0;32m     10\u001b[0m \u001b[38;5;66;03m# print(gradient.shape)\u001b[39;00m\n\u001b[0;32m     11\u001b[0m \n\u001b[0;32m     12\u001b[0m \u001b[38;5;66;03m# compute stepsize --> alpha\u001b[39;00m\n\u001b[0;32m     13\u001b[0m alpha \u001b[38;5;241m=\u001b[39m score_Rsquared(X_b\u001b[38;5;129m@w\u001b[39m, y)\n\u001b[1;32m---> 15\u001b[0m w \u001b[38;5;241m=\u001b[39m w \u001b[38;5;241m-\u001b[39m alpha\u001b[38;5;241m*\u001b[39m gradient\n\u001b[0;32m     17\u001b[0m \u001b[38;5;66;03m#     # report the training error in terms of RMSE\u001b[39;00m\n\u001b[0;32m     18\u001b[0m \u001b[38;5;66;03m# print(\"The training error is {}\".format(score_Rsquared(y, X@w)))\u001b[39;00m\n\u001b[0;32m     20\u001b[0m \u001b[38;5;28;01mreturn\u001b[39;00m w\n",
      "\u001b[1;31mValueError\u001b[0m: operands could not be broadcast together with shapes (353,353) (11,353) "
     ]
    }
   ],
   "source": [
    "### repeat the splitting, training, and testing for 10 times\n",
    "# with different parameters as step size, iterations\n",
    "for i in range(n_iter):\n",
    "    X_train, X_test, y_train, y_test = train_test_split(X_b, y, train_size=0.8, test_size=0.2)\n",
    "    w = train_a_model(X_train, y_train, w)\n",
    "print(w)"
   ]
  }
 ],
 "metadata": {
  "kernelspec": {
   "display_name": "base",
   "language": "python",
   "name": "python3"
  },
  "language_info": {
   "codemirror_mode": {
    "name": "ipython",
    "version": 3
   },
   "file_extension": ".py",
   "mimetype": "text/x-python",
   "name": "python",
   "nbconvert_exporter": "python",
   "pygments_lexer": "ipython3",
   "version": "3.11.5"
  }
 },
 "nbformat": 4,
 "nbformat_minor": 2
}
